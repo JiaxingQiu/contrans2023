{
 "cells": [
  {
   "cell_type": "code",
   "execution_count": 1,
   "id": "93325412-dacb-4deb-9198-d14372262a90",
   "metadata": {},
   "outputs": [],
   "source": [
    "import os\n",
    "mypassword = os.getenv('mypassword')"
   ]
  },
  {
   "cell_type": "code",
   "execution_count": 4,
   "id": "4194d463-5bc5-4359-92a3-7c47f8508c2d",
   "metadata": {},
   "outputs": [],
   "source": [
    "mypassword2 = os.environ['mypassword']"
   ]
  },
  {
   "cell_type": "code",
   "execution_count": 5,
   "id": "f10e1ed0-a42c-42e6-bd76-372fb8bf3802",
   "metadata": {},
   "outputs": [
    {
     "data": {
      "text/plain": [
       "'bieber4eva'"
      ]
     },
     "execution_count": 5,
     "metadata": {},
     "output_type": "execute_result"
    }
   ],
   "source": [
    "passw0rd =mypassword"
   ]
  },
  {
   "cell_type": "code",
   "execution_count": null,
   "id": "60a56fe8-1f1c-4710-b22d-5ce6b0ea5739",
   "metadata": {},
   "outputs": [],
   "source": []
  },
  {
   "cell_type": "code",
   "execution_count": null,
   "id": "2fa34c91-6e07-4dc6-ad61-4c5ab37c89ba",
   "metadata": {},
   "outputs": [],
   "source": []
  }
 ],
 "metadata": {
  "kernelspec": {
   "display_name": "contrans",
   "language": "python",
   "name": "contrans"
  },
  "language_info": {
   "codemirror_mode": {
    "name": "ipython",
    "version": 3
   },
   "file_extension": ".py",
   "mimetype": "text/x-python",
   "name": "python",
   "nbconvert_exporter": "python",
   "pygments_lexer": "ipython3",
   "version": "3.11.4"
  }
 },
 "nbformat": 4,
 "nbformat_minor": 5
}
